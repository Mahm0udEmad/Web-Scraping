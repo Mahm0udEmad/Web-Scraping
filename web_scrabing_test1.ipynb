{
 "cells": [
  {
   "cell_type": "code",
   "execution_count": 11,
   "id": "b05ffa94",
   "metadata": {},
   "outputs": [],
   "source": [
    "import requests\n",
    "from bs4 import BeautifulSoup\n",
    "import lxml\n",
    "import pandas as pd"
   ]
  },
  {
   "cell_type": "code",
   "execution_count": 12,
   "id": "6140c6a2",
   "metadata": {},
   "outputs": [
    {
     "name": "stdout",
     "output_type": "stream",
     "text": [
      "Enter the date like this mm/dd/yyyy8/14/2024\n"
     ]
    }
   ],
   "source": [
    "date=input(\"Enter the date like this mm/dd/yyyy\")\n",
    "page=requests.get(f\"https://www.yallakora.com/match-center/%D9%85%D8%B1%D9%83%D8%B2-%D8%A7%D9%84%D9%85%D8%A8%D8%A7%D8%B1%D9%8A%D8%A7%D8%AA?date={date}#\")"
   ]
  },
  {
   "cell_type": "code",
   "execution_count": 23,
   "id": "a9a18e52",
   "metadata": {},
   "outputs": [],
   "source": [
    "def main(page):\n",
    "    scr=page.content\n",
    "    soup=BeautifulSoup(scr,\"lxml\")\n",
    "    matches_details=[]\n",
    "    \n",
    "    championships=soup.find_all(\"div\",{\"class\":\"matchCard\"})\n",
    "    def get_match_info(championships):\n",
    "        championship_title=championships.contents[1].find(\"h2\").text.strip()\n",
    "        all_matches=championships.contents[3].find_all(\"div\",{\"class\":\"liItem\"})\n",
    "        number_of_matches=len(all_matches)\n",
    "        for i in range(number_of_matches):\n",
    "            team_A=all_matches[i].find(\"div\",{\"class\":\"teamA\"}).text.strip()\n",
    "            team_B=all_matches[i].find(\"div\",{\"class\":\"teamB\"}).text.strip()\n",
    "            match_result=all_matches[i].find(\"div\",{\"class\":\"MResult\"}).find_all(\"span\",{\"class\":\"score\"})\n",
    "            score= f\"{match_result[0].text.strip()} - {match_result[1].text.strip()}\"\n",
    "            match_time=all_matches[i].find(\"div\",{\"class\":\"MResult\"}).find(\"span\",{\"class\":\"time\"}).text.strip()\n",
    "            \n",
    "            matches_details.append({\"نوع البطولة\":championship_title,\n",
    "                                   \" الفريق الاول\":team_A,\n",
    "                                   \"الفريق الثانى\":team_B,\n",
    "                                   \"الوقت\":match_time,\n",
    "                                   \"النتيجة\":score\n",
    "                                   })\n",
    "    for i in range(len(championships)):\n",
    "        get_match_info(championships[i])\n",
    "        \n",
    "       \n",
    "        \n",
    "   \n",
    "        \n",
    "    \n",
    "    data=pd.DataFrame(matches_details)\n",
    "    data.to_excel(\"websss.xlsx\")\n",
    "    \n",
    "    "
   ]
  },
  {
   "cell_type": "code",
   "execution_count": 24,
   "id": "081e6aaa",
   "metadata": {
    "scrolled": true
   },
   "outputs": [],
   "source": [
    "main(page)"
   ]
  },
  {
   "cell_type": "code",
   "execution_count": 25,
   "id": "878a8d39",
   "metadata": {},
   "outputs": [],
   "source": [
    "tabel=pd.read_excel(r\"C:\\Users\\pc\\websss.xlsx\")"
   ]
  },
  {
   "cell_type": "code",
   "execution_count": 29,
   "id": "de0fa3c6",
   "metadata": {},
   "outputs": [
    {
     "data": {
      "text/html": [
       "<div>\n",
       "<style scoped>\n",
       "    .dataframe tbody tr th:only-of-type {\n",
       "        vertical-align: middle;\n",
       "    }\n",
       "\n",
       "    .dataframe tbody tr th {\n",
       "        vertical-align: top;\n",
       "    }\n",
       "\n",
       "    .dataframe thead th {\n",
       "        text-align: right;\n",
       "    }\n",
       "</style>\n",
       "<table border=\"1\" class=\"dataframe\">\n",
       "  <thead>\n",
       "    <tr style=\"text-align: right;\">\n",
       "      <th></th>\n",
       "      <th>Unnamed: 0</th>\n",
       "      <th>نوع البطولة</th>\n",
       "      <th>الفريق الاول</th>\n",
       "      <th>الفريق الثانى</th>\n",
       "      <th>الوقت</th>\n",
       "      <th>النتيجة</th>\n",
       "    </tr>\n",
       "  </thead>\n",
       "  <tbody>\n",
       "    <tr>\n",
       "      <th>0</th>\n",
       "      <td>0</td>\n",
       "      <td>الدوري المصري</td>\n",
       "      <td>الزمالك</td>\n",
       "      <td>طلائع الجيش</td>\n",
       "      <td>17:30</td>\n",
       "      <td>1 - 3</td>\n",
       "    </tr>\n",
       "    <tr>\n",
       "      <th>1</th>\n",
       "      <td>1</td>\n",
       "      <td>الدوري المصري</td>\n",
       "      <td>المصري</td>\n",
       "      <td>زد</td>\n",
       "      <td>17:30</td>\n",
       "      <td>0 - 1</td>\n",
       "    </tr>\n",
       "    <tr>\n",
       "      <th>2</th>\n",
       "      <td>2</td>\n",
       "      <td>الدوري المصري</td>\n",
       "      <td>إنبي</td>\n",
       "      <td>الأهلي</td>\n",
       "      <td>21:00</td>\n",
       "      <td>- - -</td>\n",
       "    </tr>\n",
       "    <tr>\n",
       "      <th>3</th>\n",
       "      <td>3</td>\n",
       "      <td>الدوري المصري</td>\n",
       "      <td>بيراميدز</td>\n",
       "      <td>الداخلية</td>\n",
       "      <td>21:00</td>\n",
       "      <td>- - -</td>\n",
       "    </tr>\n",
       "    <tr>\n",
       "      <th>4</th>\n",
       "      <td>4</td>\n",
       "      <td>كأس السوبر الأوروبي</td>\n",
       "      <td>ريال مدريد</td>\n",
       "      <td>أتالانتا</td>\n",
       "      <td>22:00</td>\n",
       "      <td>- - -</td>\n",
       "    </tr>\n",
       "    <tr>\n",
       "      <th>5</th>\n",
       "      <td>5</td>\n",
       "      <td>كأس السوبر السعودي</td>\n",
       "      <td>التعاون</td>\n",
       "      <td>النصر</td>\n",
       "      <td>19:15</td>\n",
       "      <td>0 - 2</td>\n",
       "    </tr>\n",
       "  </tbody>\n",
       "</table>\n",
       "</div>"
      ],
      "text/plain": [
       "   Unnamed: 0          نوع البطولة  الفريق الاول الفريق الثانى  الوقت النتيجة\n",
       "0           0        الدوري المصري       الزمالك   طلائع الجيش  17:30   1 - 3\n",
       "1           1        الدوري المصري        المصري            زد  17:30   0 - 1\n",
       "2           2        الدوري المصري          إنبي        الأهلي  21:00   - - -\n",
       "3           3        الدوري المصري      بيراميدز      الداخلية  21:00   - - -\n",
       "4           4  كأس السوبر الأوروبي    ريال مدريد      أتالانتا  22:00   - - -\n",
       "5           5   كأس السوبر السعودي       التعاون         النصر  19:15   0 - 2"
      ]
     },
     "execution_count": 29,
     "metadata": {},
     "output_type": "execute_result"
    }
   ],
   "source": [
    "tabel"
   ]
  }
 ],
 "metadata": {
  "kernelspec": {
   "display_name": "Python 3 (ipykernel)",
   "language": "python",
   "name": "python3"
  },
  "language_info": {
   "codemirror_mode": {
    "name": "ipython",
    "version": 3
   },
   "file_extension": ".py",
   "mimetype": "text/x-python",
   "name": "python",
   "nbconvert_exporter": "python",
   "pygments_lexer": "ipython3",
   "version": "3.9.13"
  }
 },
 "nbformat": 4,
 "nbformat_minor": 5
}
